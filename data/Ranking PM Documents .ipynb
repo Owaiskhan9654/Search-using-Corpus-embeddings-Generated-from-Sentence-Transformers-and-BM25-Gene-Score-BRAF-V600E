{
 "cells": [
  {
   "cell_type": "code",
   "execution_count": 1,
   "metadata": {},
   "outputs": [],
   "source": [
    "import csv\n",
    "import numpy as np\n",
    "import pandas as pd\n",
    "import nltk.data\n",
    "import pickle\n",
    "from sentence_transformers import SentenceTransformer\n",
    "from rank_bm25 import BM25L"
   ]
  },
  {
   "cell_type": "code",
   "execution_count": 3,
   "metadata": {},
   "outputs": [],
   "source": [
    "PM_Articles = pd.read_csv(\"PM classified data/Final_PM_Reduced.csv\", encoding='latin1')"
   ]
  },
  {
   "cell_type": "code",
   "execution_count": 4,
   "metadata": {},
   "outputs": [],
   "source": [
    "embedder = SentenceTransformer('distilbert-base-nli-stsb-mean-tokens')"
   ]
  },
  {
   "cell_type": "code",
   "execution_count": 6,
   "metadata": {},
   "outputs": [],
   "source": [
    "corpus_embeddings = embedder.encode(PM_Articles.Abstract.tolist())\n",
    "embedding_file = \"models/PM_Articles_DistilledBert_reduced.emb\"\n",
    "with open(embedding_file,mode='wb') as emb_f:\n",
    "    pickle.dump(corpus_embeddings,emb_f)"
   ]
  },
  {
   "cell_type": "code",
   "execution_count": 7,
   "metadata": {},
   "outputs": [],
   "source": [
    "corpus = []\n",
    "tokenizer = nltk.data.load('tokenizers/punkt/english.pickle')"
   ]
  },
  {
   "cell_type": "code",
   "execution_count": 8,
   "metadata": {},
   "outputs": [],
   "source": [
    "Title = PM_Articles['Title']\n",
    "Abstract = PM_Articles['Abstract']\n",
    "NCT_ID = PM_Articles['NCT ID']\n",
    "query = [\"cancer 64-year-old male\"]\n",
    "gene = \"BRAF (V600E)\""
   ]
  },
  {
   "cell_type": "code",
   "execution_count": 9,
   "metadata": {},
   "outputs": [],
   "source": [
    "for article in PM_Articles.Abstract.apply(lambda row: row.lower()):\n",
    "    corpus.extend(tokenizer.tokenize(article))"
   ]
  },
  {
   "cell_type": "code",
   "execution_count": 10,
   "metadata": {},
   "outputs": [],
   "source": [
    "bm25 = BM25L(corpus)\n",
    "tokenized_gene = gene.split(\" \")\n",
    "BM25_Score = bm25.get_scores(tokenized_gene) * 2\n",
    "query_embeddings = embedder.encode(query)"
   ]
  },
  {
   "cell_type": "code",
   "execution_count": 11,
   "metadata": {},
   "outputs": [
    {
     "data": {
      "text/plain": [
       "(264, 768)"
      ]
     },
     "execution_count": 11,
     "metadata": {},
     "output_type": "execute_result"
    }
   ],
   "source": [
    "corpus_embeddings.shape"
   ]
  },
  {
   "cell_type": "code",
   "execution_count": 12,
   "metadata": {},
   "outputs": [
    {
     "data": {
      "text/plain": [
       "(1, 768)"
      ]
     },
     "execution_count": 12,
     "metadata": {},
     "output_type": "execute_result"
    }
   ],
   "source": [
    "query_embeddings.shape"
   ]
  },
  {
   "cell_type": "code",
   "execution_count": 13,
   "metadata": {},
   "outputs": [],
   "source": [
    "topk=10\n",
    "score_corpus = np.sum(query_embeddings * corpus_embeddings, axis=1) / np.linalg.norm(corpus_embeddings, axis=1)\n",
    "\n",
    "topk_idx = np.argsort(score_corpus)[::-1][:topk]"
   ]
  },
  {
   "cell_type": "code",
   "execution_count": 15,
   "metadata": {},
   "outputs": [
    {
     "name": "stdout",
     "output_type": "stream",
     "text": [
      "10 NCT00002703\n",
      "10 NCT00001377\n",
      "10 NCT00003450\n",
      "10 NCT00003147\n",
      "10 NCT00002511\n",
      "10 NCT00002602\n",
      "10 NCT00003290\n",
      "10 NCT00002924\n",
      "10 NCT00002938\n",
      "10 NCT00002723\n"
     ]
    }
   ],
   "source": [
    "i = 0\n",
    "for idx in topk_idx:\n",
    "    i = i + 1\n",
    "    index=10\n",
    "    score = score_corpus[idx] + BM25_Score[idx]\n",
    "    print(index, NCT_ID[idx])\n",
    "    with open('Ranked PM 25 Articles new.csv', 'a', newline='') as csvfile:\n",
    "        fieldnames = ['QueryNum', 'Q0', 'NCT_ID', 'Score', ]\n",
    "        writer = csv.DictWriter(csvfile, fieldnames=fieldnames)\n",
    "        writer.writerow({'QueryNum': index , 'NCT_ID': NCT_ID[idx], 'Score': score})"
   ]
  },
  {
   "cell_type": "code",
   "execution_count": 16,
   "metadata": {},
   "outputs": [
    {
     "name": "stdout",
     "output_type": "stream",
     "text": [
      "https://clinicaltrials.gov/ct2/show/NCT00002703?term=NCT00002703&draw=2&rank=1\n",
      "https://clinicaltrials.gov/ct2/show/NCT00001377?term=NCT00001377&draw=2&rank=1\n",
      "https://clinicaltrials.gov/ct2/show/NCT00003450?term=NCT00003450&draw=2&rank=1\n",
      "https://clinicaltrials.gov/ct2/show/NCT00003147?term=NCT00003147&draw=2&rank=1\n",
      "https://clinicaltrials.gov/ct2/show/NCT00002511?term=NCT00002511&draw=2&rank=1\n",
      "https://clinicaltrials.gov/ct2/show/NCT00002602?term=NCT00002602&draw=2&rank=1\n",
      "https://clinicaltrials.gov/ct2/show/NCT00003290?term=NCT00003290&draw=2&rank=1\n",
      "https://clinicaltrials.gov/ct2/show/NCT00002924?term=NCT00002924&draw=2&rank=1\n",
      "https://clinicaltrials.gov/ct2/show/NCT00002938?term=NCT00002938&draw=2&rank=1\n",
      "https://clinicaltrials.gov/ct2/show/NCT00002723?term=NCT00002723&draw=2&rank=1\n"
     ]
    }
   ],
   "source": [
    "for idx in topk_idx:\n",
    "    print('https://clinicaltrials.gov/ct2/show/'+NCT_ID[idx]+'?term='+NCT_ID[idx]+'&draw=2&rank=1')"
   ]
  },
  {
   "cell_type": "code",
   "execution_count": null,
   "metadata": {},
   "outputs": [],
   "source": []
  },
  {
   "cell_type": "code",
   "execution_count": null,
   "metadata": {},
   "outputs": [],
   "source": []
  }
 ],
 "metadata": {
  "kernelspec": {
   "display_name": "Python 3",
   "language": "python",
   "name": "python3"
  },
  "language_info": {
   "codemirror_mode": {
    "name": "ipython",
    "version": 3
   },
   "file_extension": ".py",
   "mimetype": "text/x-python",
   "name": "python",
   "nbconvert_exporter": "python",
   "pygments_lexer": "ipython3",
   "version": "3.8.3"
  }
 },
 "nbformat": 4,
 "nbformat_minor": 4
}
